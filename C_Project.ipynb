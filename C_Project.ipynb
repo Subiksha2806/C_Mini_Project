{
  "nbformat": 4,
  "nbformat_minor": 0,
  "metadata": {
    "colab": {
      "provenance": []
    },
    "kernelspec": {
      "name": "python3",
      "display_name": "Python 3"
    },
    "language_info": {
      "name": "python"
    }
  },
  "cells": [
    {
      "cell_type": "markdown",
      "source": [
        "### Hospital management"
      ],
      "metadata": {
        "id": "9SxBZ2w1_VXH"
      }
    },
    {
      "cell_type": "code",
      "source": [
        "%%writefile Patient.c\n",
        "#include <stdio.h>\n",
        "#include <stdlib.h>\n",
        "\n",
        "struct Patient\n",
        "{\n",
        "    int id;\n",
        "    char name[50];\n",
        "    int age;\n",
        "    char gender[10];\n",
        "    char disease[50];\n",
        "};\n",
        "\n",
        "void addPatient()\n",
        "{\n",
        "    struct Patient p;\n",
        "    FILE *fp = fopen(\"patients.txt\", \"a\");\n",
        "\n",
        "    printf(\"Enter Patient ID: \");\n",
        "    scanf(\"%d\", &p.id);\n",
        "    printf(\"Enter Name: \");\n",
        "    scanf(\" %[^\\n]\", p.name);\n",
        "    printf(\"Enter Age: \");\n",
        "    scanf(\"%d\", &p.age);\n",
        "    printf(\"Enter Gender: \");\n",
        "    scanf(\" %[^\\n]\", p.gender);\n",
        "    printf(\"Enter Disease: \");\n",
        "    scanf(\" %[^\\n]\", p.disease);\n",
        "\n",
        "    fprintf(fp, \"%d,%s,%d,%s,%s\\n\", p.id, p.name, p.age, p.gender, p.disease);\n",
        "    fclose(fp);\n",
        "\n",
        "    printf(\"\\nPatient record added successfully!\\n\");\n",
        "}\n",
        "\n",
        "void viewAllPatients()\n",
        "{\n",
        "    struct Patient p;\n",
        "    FILE *fp = fopen(\"patients.txt\", \"r\");\n",
        "\n",
        "    if (fp == NULL)\n",
        "    {\n",
        "        printf(\"No records found.\\n\");\n",
        "        return;\n",
        "    }\n",
        "\n",
        "    printf(\"\\n--- All Patient Records ---\\n\");\n",
        "    while (fscanf(fp, \"%d, %50[^,], %d, %10[^,], %50[^\\n]\\n\",&p.id, p.name, &p.age, p.gender, p.disease) == 5)\n",
        "     {\n",
        "        printf(\"\\nID: %d\\nName: %s\\nAge: %d\\nGender: %s\\nDisease: %s\\n\", p.id, p.name, p.age, p.gender, p.disease);\n",
        "        printf(\"--------------------------\\n\");\n",
        "    }\n",
        "    fclose(fp);\n",
        "}\n",
        "\n",
        "void searchPatient()\n",
        "{\n",
        "    int targetID, found = 0;\n",
        "    struct Patient p;\n",
        "    FILE *fp = fopen(\"patients.txt\", \"r\");\n",
        "\n",
        "    if (fp == NULL)\n",
        "    {\n",
        "        printf(\"No records found.\\n\");\n",
        "        return;\n",
        "    }\n",
        "\n",
        "    printf(\"Enter Patient ID to search: \");\n",
        "    scanf(\"%d\", &targetID);\n",
        "\n",
        "    while (fscanf(fp, \"%d,%49[^,],%d,%9[^,],%49[^\\n]\\n\",&p.id, p.name, &p.age, p.gender, p.disease) == 5)\n",
        "     {\n",
        "        printf(\"\\nID: %d\\nName: %s\\nAge: %d\\nGender: %s\\nDisease: %s\\n\",\n",
        "               p.id, p.name, p.age, p.gender, p.disease);\n",
        "\n",
        "    if (!found)\n",
        "        printf(\"Patient with ID %d not found.\\n\", targetID);\n",
        "\n",
        "    fclose(fp);\n",
        "}\n",
        "}\n",
        "\n",
        "int main() {\n",
        "    int choice;\n",
        "\n",
        "    do {\n",
        "        printf(\"\\n===== Hospital Management Menu =====\\n\");\n",
        "        printf(\"1. Add Patient Record\\n\");\n",
        "        printf(\"2. View All Patients\\n\");\n",
        "        printf(\"3. Search Patient by ID\\n\");\n",
        "        printf(\"4. Exit\\n\");\n",
        "        printf(\"Enter your choice (1-4): \");\n",
        "        scanf(\"%d\", &choice);\n",
        "\n",
        "        switch (choice) {\n",
        "            case 1: addPatient(); break;\n",
        "            case 2: viewAllPatients(); break;\n",
        "            case 3: searchPatient(); break;\n",
        "            case 4: printf(\"Exiting program. Goodbye!\\n\"); break;\n",
        "            default: printf(\"Invalid choice. Try again.\\n\");\n",
        "        }\n",
        "    } while (choice != 4);\n",
        "\n",
        "    return 0;\n",
        "}"
      ],
      "metadata": {
        "colab": {
          "base_uri": "https://localhost:8080/"
        },
        "id": "QbaA_taIyNzC",
        "outputId": "31685f48-01c5-439a-e999-6daa45daec52"
      },
      "execution_count": null,
      "outputs": [
        {
          "output_type": "stream",
          "name": "stdout",
          "text": [
            "Overwriting Patient.c\n"
          ]
        }
      ]
    },
    {
      "cell_type": "code",
      "source": [
        "!gcc Patient.c"
      ],
      "metadata": {
        "id": "Yn7hkR5ruvC_"
      },
      "execution_count": null,
      "outputs": []
    },
    {
      "cell_type": "code",
      "source": [
        "!./a.out"
      ],
      "metadata": {
        "colab": {
          "base_uri": "https://localhost:8080/"
        },
        "id": "AbsquupwuvLO",
        "outputId": "07f48edf-3e97-4c7a-db0d-38bcdeb823fb"
      },
      "execution_count": null,
      "outputs": [
        {
          "output_type": "stream",
          "name": "stdout",
          "text": [
            "\n",
            "===== Hospital Management Menu =====\n",
            "1. Add Patient Record\n",
            "2. View All Patients\n",
            "3. Search Patient by ID\n",
            "4. Exit\n",
            "Enter your choice (1-4): ^C\n"
          ]
        }
      ]
    },
    {
      "cell_type": "markdown",
      "source": [
        "### Number Guessing Game"
      ],
      "metadata": {
        "id": "rz-MlI3VBiGt"
      }
    },
    {
      "cell_type": "code",
      "source": [
        "%%writefile game.c\n",
        "#include <stdio.h>\n",
        "#include <stdlib.h>\n",
        "#include <time.h>\n",
        "\n",
        "void playGame() {\n",
        "    int secret, guess, attempts = 0;\n",
        "\n",
        "    // Seed the random number generator\n",
        "    srand(time(NULL));\n",
        "    secret = rand() % 100 + 1;  // Random number between 1 and 100\n",
        "\n",
        "    printf(\"I'm thinking of a number between 1 and 100.\\n\");\n",
        "\n",
        "    // Loop until user guesses correctly\n",
        "    do {\n",
        "        printf(\"Enter your guess: \");\n",
        "        scanf(\"%d\", &guess);\n",
        "        attempts++;\n",
        "\n",
        "        if (guess < secret)\n",
        "            printf(\"Too low! Try again.\\n\");\n",
        "        else if (guess > secret)\n",
        "            printf(\"Too high! Try again.\\n\");\n",
        "        else\n",
        "            printf(\"🎉 Correct! You guessed it in %d attempts.\\n\", attempts);\n",
        "\n",
        "    } while (guess != secret);\n",
        "}\n",
        "\n",
        "int main() {\n",
        "    char choice;\n",
        "\n",
        "    do {\n",
        "        printf(\"\\n==== Number Guessing Game ====\\n\");\n",
        "        playGame();\n",
        "\n",
        "        printf(\"\\nDo you want to play again? (y/n): \");\n",
        "        scanf(\" %c\", &choice);\n",
        "\n",
        "    } while (choice == 'y' || choice == 'Y');\n",
        "\n",
        "    printf(\"Thanks for playing. Goodbye!\\n\");\n",
        "    return 0;\n",
        "}\n"
      ],
      "metadata": {
        "colab": {
          "base_uri": "https://localhost:8080/"
        },
        "id": "B4S9UfNSAtbu",
        "outputId": "16a9be7f-60d6-42dc-d011-4899eebb5904"
      },
      "execution_count": null,
      "outputs": [
        {
          "output_type": "stream",
          "name": "stdout",
          "text": [
            "Overwriting game.c\n"
          ]
        }
      ]
    },
    {
      "cell_type": "code",
      "source": [
        "!gcc game.c"
      ],
      "metadata": {
        "id": "sd46j57KBQee"
      },
      "execution_count": null,
      "outputs": []
    },
    {
      "cell_type": "code",
      "source": [
        "!./a.out"
      ],
      "metadata": {
        "colab": {
          "base_uri": "https://localhost:8080/"
        },
        "id": "QI8IIub-BQom",
        "outputId": "6dbb0468-5880-4891-df79-df4691bc87d9"
      },
      "execution_count": null,
      "outputs": [
        {
          "output_type": "stream",
          "name": "stdout",
          "text": [
            "\n",
            "==== Number Guessing Game ====\n",
            "I'm thinking of a number between 1 and 100.\n",
            "Enter your guess: ^C\n"
          ]
        }
      ]
    }
  ]
}